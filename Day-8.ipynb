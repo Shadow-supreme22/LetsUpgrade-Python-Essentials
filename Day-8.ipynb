{
 "cells": [
  {
   "cell_type": "markdown",
   "metadata": {},
   "source": [
    "# Assignment Day 8\n",
    "                                -Done By: Varinderjot Singh "
   ]
  },
  {
   "cell_type": "markdown",
   "metadata": {},
   "source": [
    "# Question 1\n",
    "Write a decorator function for your taking input for you any kind of function you want to build."
   ]
  },
  {
   "cell_type": "code",
   "execution_count": 55,
   "metadata": {},
   "outputs": [],
   "source": [
    "def getInput(in_numbers):\n",
    "    def input_numbers():\n",
    "        print(\"Welcome to personal basic calculator:\")\n",
    "        print(\" \")\n",
    "        a = int(input(\"Enter  first Number = \"))\n",
    "        b = int(input(\"Enter  second Number =  \"))\n",
    "        in_numbers(a,b)   \n",
    "    return input_numbers"
   ]
  },
  {
   "cell_type": "code",
   "execution_count": 56,
   "metadata": {},
   "outputs": [],
   "source": [
    "@getInput\n",
    "def calcu(n,s):\n",
    "    sum=n+s\n",
    "    div=n/s\n",
    "    multi=n*s\n",
    "    sub=n-s\n",
    "    print(\"Sum is : \" +str(sum))\n",
    "    print(\"Subtraction is : \" +str(sub))\n",
    "    print(\"Product is : \" +str(multi))\n",
    "    print(\"Division is : \" +str(div))\n",
    "    "
   ]
  },
  {
   "cell_type": "code",
   "execution_count": 57,
   "metadata": {},
   "outputs": [
    {
     "name": "stdout",
     "output_type": "stream",
     "text": [
      "Welcome to personal basic calculator:\n",
      " \n",
      "Enter  first Number = 5\n",
      "Enter  second Number =  6\n",
      "Sum is : 11\n",
      "Subtraction is : -1\n",
      "Product is : 30\n",
      "Division is : 0.8333333333333334\n"
     ]
    }
   ],
   "source": [
    "calcu()"
   ]
  },
  {
   "cell_type": "markdown",
   "metadata": {},
   "source": [
    "# Question 2\n",
    "For this challenge you need to develop a Python program to open a file in read only mode and try\n",
    "writing something to it and handle the subsequent errors using Exception Handling."
   ]
  },
  {
   "cell_type": "code",
   "execution_count": 1,
   "metadata": {},
   "outputs": [
    {
     "name": "stdout",
     "output_type": "stream",
     "text": [
      "Enter file name: herro.txt\n",
      "File not found\n"
     ]
    }
   ],
   "source": [
    "filename = input(\"Enter file name: \")\n",
    "\n",
    "try:\n",
    "    f = open(filename, \"r\")\n",
    "\n",
    "    for line in f:\n",
    "        print(line, end=\"\")\n",
    "\n",
    "    f.close()\n",
    "\n",
    "except FileNotFoundError:\n",
    "    print(\"File not found\")\n",
    "\n",
    "except PermissionError:\n",
    "    print(\"You don't have the permission to read the file\")\n",
    "\n",
    "except:\n",
    "    print(\"Unexpected error while reading the file\")"
   ]
  },
  {
   "cell_type": "code",
   "execution_count": null,
   "metadata": {},
   "outputs": [],
   "source": []
  }
 ],
 "metadata": {
  "kernelspec": {
   "display_name": "Python 3",
   "language": "python",
   "name": "python3"
  },
  "language_info": {
   "codemirror_mode": {
    "name": "ipython",
    "version": 3
   },
   "file_extension": ".py",
   "mimetype": "text/x-python",
   "name": "python",
   "nbconvert_exporter": "python",
   "pygments_lexer": "ipython3",
   "version": "3.8.3"
  }
 },
 "nbformat": 4,
 "nbformat_minor": 4
}
